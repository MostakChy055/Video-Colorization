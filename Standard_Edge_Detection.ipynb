{
  "nbformat": 4,
  "nbformat_minor": 0,
  "metadata": {
    "colab": {
      "provenance": [],
      "authorship_tag": "ABX9TyO/Im6jTFx2NFWmovMrMFll",
      "include_colab_link": true
    },
    "kernelspec": {
      "name": "python3",
      "display_name": "Python 3"
    },
    "language_info": {
      "name": "python"
    }
  },
  "cells": [
    {
      "cell_type": "markdown",
      "metadata": {
        "id": "view-in-github",
        "colab_type": "text"
      },
      "source": [
        "<a href=\"https://colab.research.google.com/github/MostakChy055/Video-Colorization/blob/main/Standard_Edge_Detection.ipynb\" target=\"_parent\"><img src=\"https://colab.research.google.com/assets/colab-badge.svg\" alt=\"Open In Colab\"/></a>"
      ]
    },
    {
      "source": [
        "!pip install opencv-contrib-python"
      ],
      "cell_type": "code",
      "metadata": {
        "colab": {
          "base_uri": "https://localhost:8080/"
        },
        "id": "kwserECQzbuf",
        "outputId": "940c9904-f342-4c92-e284-dd1c44d8d048"
      },
      "execution_count": null,
      "outputs": [
        {
          "output_type": "stream",
          "name": "stdout",
          "text": [
            "Requirement already satisfied: opencv-contrib-python in /usr/local/lib/python3.10/dist-packages (4.8.0.76)\n",
            "Requirement already satisfied: numpy>=1.21.2 in /usr/local/lib/python3.10/dist-packages (from opencv-contrib-python) (1.25.2)\n"
          ]
        }
      ]
    },
    {
      "cell_type": "code",
      "execution_count": null,
      "metadata": {
        "colab": {
          "base_uri": "https://localhost:8080/"
        },
        "id": "cyzqaOxakz5z",
        "outputId": "55baa40a-08b3-4265-8394-43fd10a913c0"
      },
      "outputs": [
        {
          "output_type": "stream",
          "name": "stdout",
          "text": [
            "--2024-07-17 14:18:58--  https://github.com/opencv/opencv_extra/blob/5e3a56880fb115e757855f8e01e744c154791144/testdata/cv/ximgproc/model.yml.gz\n",
            "Resolving github.com (github.com)... 140.82.121.4\n",
            "Connecting to github.com (github.com)|140.82.121.4|:443... connected.\n",
            "HTTP request sent, awaiting response... 200 OK\n",
            "Length: unspecified [text/html]\n",
            "Saving to: ‘model.yml.gz’\n",
            "\n",
            "model.yml.gz            [ <=>                ] 158.75K  --.-KB/s    in 0.03s   \n",
            "\n",
            "2024-07-17 14:18:58 (5.30 MB/s) - ‘model.yml.gz’ saved [162564]\n",
            "\n"
          ]
        }
      ],
      "source": [
        "# this is a code to get a pre-trained github file\n",
        "!wget -O model.yml.gz \"https://github.com/opencv/opencv_extra/blob/5e3a56880fb115e757855f8e01e744c154791144/testdata/cv/ximgproc/model.yml.gz\""
      ]
    },
    {
      "source": [
        "import os\n",
        "import cv2\n",
        "import gzip\n",
        "import requests\n",
        "\n",
        "model_path = \"/content/model.yml.gz\"\n",
        "model_url = \"https://github.com/opencv/opencv_extra/blob/5e3a56880fb115e757855f8e01e744c154791144/testdata/cv/ximgproc/model.yml.gz\"\n",
        "print(\"Model path exists:\", os.path.exists(model_path))\n",
        "\n",
        "# Download the model file using requests to handle potential download issues\n",
        "response = requests.get(model_url + \"?raw=true\")  # Use ?raw=true to get the raw file\n",
        "response.raise_for_status()  # Check for download errors\n",
        "\n",
        "with open(model_path, 'wb') as f:\n",
        "    f.write(response.content)\n",
        "\n",
        "# Extract the compressed model file\n",
        "with gzip.open(model_path, 'rb') as f_in:\n",
        "    with open('/content/model.yml', 'wb') as f_out:\n",
        "        f_out.write(f_in.read())\n",
        "\n",
        "# Use the extracted model file path\n",
        "extracted_model_path = \"/content/model.yml\"\n",
        "pDollar = cv2.ximgproc.createStructuredEdgeDetection(extracted_model_path)"
      ],
      "cell_type": "code",
      "metadata": {
        "colab": {
          "base_uri": "https://localhost:8080/"
        },
        "id": "SWY8q4EG-NSQ",
        "outputId": "15189b37-38d0-4969-b62e-fd255eadb835"
      },
      "execution_count": null,
      "outputs": [
        {
          "output_type": "stream",
          "name": "stdout",
          "text": [
            "Model path exists: True\n"
          ]
        }
      ]
    },
    {
      "cell_type": "code",
      "source": [
        "import numpy as np\n",
        "\n",
        "src = cv2.imread(\"/content/GKujq.jpg\")\n",
        "image = src\n",
        "image = cv2.cvtColor(image, cv2.COLOR_BGR2GRAY)\n",
        "image = image.astype(np.float32) / 255.0\n",
        "\n",
        "edges = pDollar.detectEdges(image)\n",
        "\n",
        "edges = (edges * 255).astype(np.uint8)\n",
        "cv2.imwrite(\"/content/edges_detected.jpg\", edges)"
      ],
      "metadata": {
        "colab": {
          "base_uri": "https://localhost:8080/"
        },
        "id": "kt3r2Te8zP4Y",
        "outputId": "50279184-fe4d-4f04-bff1-1b1f730b9632"
      },
      "execution_count": null,
      "outputs": [
        {
          "output_type": "error",
          "ename": "error",
          "evalue": "OpenCV(4.8.0) /io/opencv_contrib/modules/ximgproc/src/structured_edge_detection.cpp:537: error: (-215:Assertion failed) _src.type() == CV_32FC3 in function 'detectEdges'\n",
          "traceback": [
            "\u001b[0;31m---------------------------------------------------------------------------\u001b[0m",
            "\u001b[0;31merror\u001b[0m                                     Traceback (most recent call last)",
            "\u001b[0;32m<ipython-input-14-ee0c58b00c6b>\u001b[0m in \u001b[0;36m<cell line: 8>\u001b[0;34m()\u001b[0m\n\u001b[1;32m      6\u001b[0m \u001b[0mimage\u001b[0m \u001b[0;34m=\u001b[0m \u001b[0mimage\u001b[0m\u001b[0;34m.\u001b[0m\u001b[0mastype\u001b[0m\u001b[0;34m(\u001b[0m\u001b[0mnp\u001b[0m\u001b[0;34m.\u001b[0m\u001b[0mfloat32\u001b[0m\u001b[0;34m)\u001b[0m \u001b[0;34m/\u001b[0m \u001b[0;36m255.0\u001b[0m\u001b[0;34m\u001b[0m\u001b[0;34m\u001b[0m\u001b[0m\n\u001b[1;32m      7\u001b[0m \u001b[0;34m\u001b[0m\u001b[0m\n\u001b[0;32m----> 8\u001b[0;31m \u001b[0medges\u001b[0m \u001b[0;34m=\u001b[0m \u001b[0mpDollar\u001b[0m\u001b[0;34m.\u001b[0m\u001b[0mdetectEdges\u001b[0m\u001b[0;34m(\u001b[0m\u001b[0mimage\u001b[0m\u001b[0;34m)\u001b[0m\u001b[0;34m\u001b[0m\u001b[0;34m\u001b[0m\u001b[0m\n\u001b[0m\u001b[1;32m      9\u001b[0m \u001b[0;34m\u001b[0m\u001b[0m\n\u001b[1;32m     10\u001b[0m \u001b[0medges\u001b[0m \u001b[0;34m=\u001b[0m \u001b[0;34m(\u001b[0m\u001b[0medges\u001b[0m \u001b[0;34m*\u001b[0m \u001b[0;36m255\u001b[0m\u001b[0;34m)\u001b[0m\u001b[0;34m.\u001b[0m\u001b[0mastype\u001b[0m\u001b[0;34m(\u001b[0m\u001b[0mnp\u001b[0m\u001b[0;34m.\u001b[0m\u001b[0muint8\u001b[0m\u001b[0;34m)\u001b[0m\u001b[0;34m\u001b[0m\u001b[0;34m\u001b[0m\u001b[0m\n",
            "\u001b[0;31merror\u001b[0m: OpenCV(4.8.0) /io/opencv_contrib/modules/ximgproc/src/structured_edge_detection.cpp:537: error: (-215:Assertion failed) _src.type() == CV_32FC3 in function 'detectEdges'\n"
          ]
        }
      ]
    },
    {
      "cell_type": "code",
      "source": [
        "from sklearn.cluster import KMeans\n",
        "\n",
        "binary_edges = edges > 50\n",
        "num_labels, labels_im = cv2.connectedComponents(binary_edges.astype(np.uint8))\n",
        "\n",
        "# Split segments based on diversity and pixel count constraints\n",
        "diversity_threshold = 0.1\n",
        "min_pixels = 25\n",
        "new_labels = labels_im.copy()\n",
        "\n",
        "def calculate_diversity(segment, image):\n",
        "    pixel_values = image[segment]\n",
        "    mean_value = np.mean(pixel_values)\n",
        "    diversity = np.mean((pixel_values - mean_value) ** 2)\n",
        "    return diversity\n",
        "\n",
        "for label in range(1, num_labels):\n",
        "    segment = (labels_im == label)\n",
        "    if np.sum(segment) < min_pixels:\n",
        "        continue\n",
        "    if calculate_diversity(segment, image) > diversity_threshold:\n",
        "        coords = np.column_stack(np.where(segment))\n",
        "        if len(coords) > 1:\n",
        "            kmeans = KMeans(n_clusters=2, random_state=0).fit(coords)\n",
        "            for idx, coord in enumerate(coords):\n",
        "                new_labels[coord[0], coord[1]] = num_labels + kmeans.labels_[idx] + 1\n",
        "            num_labels += 1\n",
        "\n",
        "# Calculate and display Segment Mean Values (SMV)\n",
        "smv_image = np.zeros_like(image)\n",
        "for label in range(1, num_labels):\n",
        "    segment = (new_labels == label)\n",
        "    if np.sum(segment) >= min_pixels:\n",
        "        smv_image[segment] = np.mean(image[segment], axis=0)\n",
        "\n",
        "# Save and display results\n",
        "smv_image = (smv_image * 255).astype(np.uint8)\n",
        "cv2.imwrite(\"/content/final.jpg\", smv_image)"
      ],
      "metadata": {
        "colab": {
          "base_uri": "https://localhost:8080/"
        },
        "id": "ZolA83uZ3VV-",
        "outputId": "d86253da-7541-4f56-f0f0-2155e8d393ff"
      },
      "execution_count": null,
      "outputs": [
        {
          "output_type": "stream",
          "name": "stderr",
          "text": [
            "/usr/local/lib/python3.10/dist-packages/sklearn/cluster/_kmeans.py:870: FutureWarning: The default value of `n_init` will change from 10 to 'auto' in 1.4. Set the value of `n_init` explicitly to suppress the warning\n",
            "  warnings.warn(\n"
          ]
        },
        {
          "output_type": "execute_result",
          "data": {
            "text/plain": [
              "True"
            ]
          },
          "metadata": {},
          "execution_count": 11
        }
      ]
    },
    {
      "cell_type": "code",
      "source": [],
      "metadata": {
        "id": "WUc2Z49uOxtA"
      },
      "execution_count": null,
      "outputs": []
    }
  ]
}